{
  "nbformat": 4,
  "nbformat_minor": 0,
  "metadata": {
    "colab": {
      "provenance": [],
      "authorship_tag": "ABX9TyO7ub8+H7I4BlLTDJmxyvOI",
      "include_colab_link": true
    },
    "kernelspec": {
      "name": "python3",
      "display_name": "Python 3"
    },
    "language_info": {
      "name": "python"
    }
  },
  "cells": [
    {
      "cell_type": "markdown",
      "metadata": {
        "id": "view-in-github",
        "colab_type": "text"
      },
      "source": [
        "<a href=\"https://colab.research.google.com/github/xen123-sudo/kontolodon/blob/main/Tugas1.ipynb\" target=\"_parent\"><img src=\"https://colab.research.google.com/assets/colab-badge.svg\" alt=\"Open In Colab\"/></a>"
      ]
    },
    {
      "cell_type": "markdown",
      "source": [
        "jumlahkan 2 bilangan"
      ],
      "metadata": {
        "id": "KzwbXHcgp_Tq"
      }
    },
    {
      "cell_type": "code",
      "source": [
        "#Program Mnejumlahkan Dua Bilangan\n",
        "\n",
        "#Meminta input dari pengguna\n",
        "Bil1 = int(input(\"Masukkan bilangan pertama: \"))\n",
        "Bil2 = int(input(\"Masukkan bilangan kedua: \"))\n",
        "\n",
        "#Menjumlahkan bilangan\n",
        "hasil = Bil1 + Bil2\n",
        "\n",
        "#Menampilkan hasil\n",
        "print(\"hasil penjumlahan\", hasil)"
      ],
      "metadata": {
        "colab": {
          "base_uri": "https://localhost:8080/"
        },
        "id": "g0xRzqHDyRoZ",
        "outputId": "6a939959-37d4-4a9e-f48b-2e198bdfd456"
      },
      "execution_count": null,
      "outputs": [
        {
          "output_type": "stream",
          "name": "stdout",
          "text": [
            "Masukkan bilangan pertama: 10\n",
            "Masukkan bilangan kedua: 20\n",
            "hasil penjumlahan 30\n"
          ]
        }
      ]
    },
    {
      "cell_type": "markdown",
      "source": [
        "Keliling persegi panjang"
      ],
      "metadata": {
        "id": "bMaRgWYI3b_e"
      }
    },
    {
      "cell_type": "code",
      "source": [
        "# Program Menghitung Luas dan Keliling Persegi Panjang\n",
        "\n",
        "# Meminta input dari pengguna\n",
        "panjang = float(input(\"Masukkan panjang persegi panjang: \"))\n",
        "lebar = float(input(\"Masukkan lebar persegi panjang: \"))\n",
        "\n",
        "# Menghitung luas (L = p * l)\n",
        "luas = panjang * lebar\n",
        "\n",
        "# Menghitung keliling (K = 2 * (p + l))\n",
        "keliling = 2 * (panjang + lebar)\n",
        "\n",
        "# Menampilkan hasil\n",
        "print(\"Luas persegi panjang adalah:\", luas)\n",
        "print(\"Keliling persegi panjang adalah:\", keliling)\n"
      ],
      "metadata": {
        "colab": {
          "base_uri": "https://localhost:8080/"
        },
        "id": "uEKWqJPYTTKw",
        "outputId": "ea168b63-c64d-4f9c-cefd-e28765cb0c46"
      },
      "execution_count": null,
      "outputs": [
        {
          "output_type": "stream",
          "name": "stdout",
          "text": [
            "Masukkan panjang persegi panjang: 5\n",
            "Masukkan lebar persegi panjang: 6\n",
            "Luas persegi panjang adalah: 30.0\n",
            "Keliling persegi panjang adalah: 22.0\n"
          ]
        }
      ]
    },
    {
      "cell_type": "markdown",
      "source": [
        "program cek umur"
      ],
      "metadata": {
        "id": "5w9OCDY73mjW"
      }
    },
    {
      "cell_type": "code",
      "source": [
        "# Program cek umur pengguna\n",
        "\n",
        "# Meminta input nama dan umur\n",
        "nama = input(\"Masukkan nama Anda: \")\n",
        "umur = int(input(\"Masukkan umur Anda: \"))\n",
        "\n",
        "# Mengecek apakah cukup umur\n",
        "if umur >= 18:\n",
        "    print(nama, \"sudah cukup umur (dewasa).\")\n",
        "else:\n",
        "    print(nama, \"belum cukup umur.\")\n"
      ],
      "metadata": {
        "colab": {
          "base_uri": "https://localhost:8080/"
        },
        "id": "7K0w8kWfzsoD",
        "outputId": "83b6f382-7913-4048-c20c-2e3b5004e59e"
      },
      "execution_count": null,
      "outputs": [
        {
          "output_type": "stream",
          "name": "stdout",
          "text": [
            "Masukkan nama Anda: afanda\n",
            "Masukkan umur Anda: 16\n",
            "afanda belum cukup umur.\n"
          ]
        }
      ]
    }
  ]
}